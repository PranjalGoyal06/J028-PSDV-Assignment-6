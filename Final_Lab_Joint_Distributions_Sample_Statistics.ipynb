{
  "cells": [
    {
      "cell_type": "markdown",
      "metadata": {},
      "source": [
        "# Assignment 6\n",
        "ES 114: Probability, Statistics and Data Visualisation\n",
        "\n",
        "Authors: Group **J028**\n",
        "1. Kowel P Laloo - 24110168\n",
        "2. Pranav Ram R - 24110270\n",
        "3. Pranjal Goyal - 24110274"
      ]
    },
    {
      "cell_type": "code",
      "execution_count": 1,
      "metadata": {},
      "outputs": [],
      "source": [
        "import torch\n",
        "import  matplotlib.pyplot as plt\n",
        "from scipy.signal import fftconvolve"
      ]
    },
    {
      "cell_type": "markdown",
      "metadata": {
        "id": "YWj5Zqd85REh"
      },
      "source": [
        "# **1. Joint PDF, PMF and CDF**"
      ]
    },
    {
      "cell_type": "markdown",
      "metadata": {
        "id": "ly_bolIU4Cw3"
      },
      "source": [
        "### **Question 1: Joint PMF of Two Dice**\n",
        "\n",
        "Write a Python function that computes the joint probability mass function (PMF) of the sum of two fair six-sided dice. The function should:\n",
        "\n",
        "Generate all possible outcomes of rolling two six-sided dice.\n",
        "\n",
        "Compute and return the joint PMF as a dictionary, where keys are tuples\n",
        "(𝑋,𝑌) representing the outcomes of the two dice, and values are the corresponding probabilities."
      ]
    },
    {
      "cell_type": "code",
      "execution_count": null,
      "metadata": {},
      "outputs": [
        {
          "name": "stdout",
          "output_type": "stream",
          "text": [
            "All possible outcomes:\n",
            " tensor([[1, 1],\n",
            "        [1, 2],\n",
            "        [1, 3],\n",
            "        [1, 4],\n",
            "        [1, 5],\n",
            "        [1, 6],\n",
            "        [2, 1],\n",
            "        [2, 2],\n",
            "        [2, 3],\n",
            "        [2, 4],\n",
            "        [2, 5],\n",
            "        [2, 6],\n",
            "        [3, 1],\n",
            "        [3, 2],\n",
            "        [3, 3],\n",
            "        [3, 4],\n",
            "        [3, 5],\n",
            "        [3, 6],\n",
            "        [4, 1],\n",
            "        [4, 2],\n",
            "        [4, 3],\n",
            "        [4, 4],\n",
            "        [4, 5],\n",
            "        [4, 6],\n",
            "        [5, 1],\n",
            "        [5, 2],\n",
            "        [5, 3],\n",
            "        [5, 4],\n",
            "        [5, 5],\n",
            "        [5, 6],\n",
            "        [6, 1],\n",
            "        [6, 2],\n",
            "        [6, 3],\n",
            "        [6, 4],\n",
            "        [6, 5],\n",
            "        [6, 6]])\n",
            "{(1, 1): 0.027777777777777776, (1, 2): 0.027777777777777776, (1, 3): 0.027777777777777776, (1, 4): 0.027777777777777776, (1, 5): 0.027777777777777776, (1, 6): 0.027777777777777776, (2, 1): 0.027777777777777776, (2, 2): 0.027777777777777776, (2, 3): 0.027777777777777776, (2, 4): 0.027777777777777776, (2, 5): 0.027777777777777776, (2, 6): 0.027777777777777776, (3, 1): 0.027777777777777776, (3, 2): 0.027777777777777776, (3, 3): 0.027777777777777776, (3, 4): 0.027777777777777776, (3, 5): 0.027777777777777776, (3, 6): 0.027777777777777776, (4, 1): 0.027777777777777776, (4, 2): 0.027777777777777776, (4, 3): 0.027777777777777776, (4, 4): 0.027777777777777776, (4, 5): 0.027777777777777776, (4, 6): 0.027777777777777776, (5, 1): 0.027777777777777776, (5, 2): 0.027777777777777776, (5, 3): 0.027777777777777776, (5, 4): 0.027777777777777776, (5, 5): 0.027777777777777776, (5, 6): 0.027777777777777776, (6, 1): 0.027777777777777776, (6, 2): 0.027777777777777776, (6, 3): 0.027777777777777776, (6, 4): 0.027777777777777776, (6, 5): 0.027777777777777776, (6, 6): 0.027777777777777776}\n"
          ]
        }
      ],
      "source": [
        "def joint_pmf(*args):\n",
        "    pmf = {}\n",
        "    X = torch.arange(1, 7)\n",
        "    Y = torch.arange(1, 7)\n",
        "    outcomes = torch.cartesian_prod(X, Y)\n",
        "\n",
        "    for x, y in outcomes:\n",
        "        pmf[(x.item(), y.item())] = 1 / 36\n",
        "\n",
        "    if not args:\n",
        "        print(\"All possible outcomes:\\n\", outcomes)\n",
        "        return pmf\n",
        "    elif len(args) == 2:\n",
        "            x,y = args[0], args[1]\n",
        "            return pmf.get((x, y), 0)\n",
        "    else:\n",
        "         print(\"Invalid number of arguments.\")\n",
        "         return\n",
        "\n",
        "print(joint_pmf())"
      ]
    },
    {
      "cell_type": "code",
      "execution_count": 20,
      "metadata": {},
      "outputs": [
        {
          "name": "stdout",
          "output_type": "stream",
          "text": [
            "p_X,Y(1,5) = P[X=1,Y=5] = 0.02778\n"
          ]
        }
      ],
      "source": [
        "x = 1\n",
        "y = 5\n",
        "print(f\"p_X,Y({x},{y}) = P[X={x},Y={y}] = {joint_pmf(1, 2):.5f}\")"
      ]
    },
    {
      "cell_type": "markdown",
      "metadata": {
        "id": "sH_EA3Li4ftZ"
      },
      "source": [
        "### **Question 2: Joint CDF of Two Dice**\n",
        "\n",
        "Write a Python function that calculates the joint cumulative distribution function (CDF) for rolling two six-sided dice. The function should:\n",
        "\n",
        "Accept two integers a and b, representing dice outcomes up to which the CDF is computed.\n",
        "\n",
        "Compute 𝑃(𝑋≤𝑎,𝑌≤𝑏) which is the probability that the first die is at most a and the second die is at most b."
      ]
    },
    {
      "cell_type": "code",
      "execution_count": 23,
      "metadata": {},
      "outputs": [
        {
          "name": "stdout",
          "output_type": "stream",
          "text": [
            "p_X,Y(3,2) = P[X<=3,Y<=2] = 0.55556\n"
          ]
        }
      ],
      "source": [
        "def joint_cdf(a,b):\n",
        "    X = torch.arange(1, 7)\n",
        "    Y = torch.arange(1, 7)\n",
        "    outcomes = torch.cartesian_prod(X, Y)\n",
        "    cdf = {}\n",
        "\n",
        "    for x, y in outcomes:\n",
        "        for i in range(1, x+1):\n",
        "            for j in range(1, y+1):\n",
        "                cdf[(i,j)] = cdf.get((i, j), 0) + 1 / 36\n",
        "\n",
        "    return cdf.get((a, b), 0)\n",
        "\n",
        "x = 3\n",
        "y = 2\n",
        "\n",
        "print(f\"p_X,Y({x},{y}) = P[X<={x},Y<={y}] = {joint_cdf(x, y):.5f}\")"
      ]
    },
    {
      "cell_type": "markdown",
      "metadata": {
        "id": "IPrOcqhiWpn-"
      },
      "source": [
        "# **2. Joint Expectation**"
      ]
    },
    {
      "cell_type": "markdown",
      "metadata": {},
      "source": [
        "### **Question 1: Monte Carlo Estimation of Joint Expectation**\n",
        "\n",
        "**Objective:** Implement a Monte Carlo simulation to estimate the expected value of a function of two jointly distributed random variables.\n",
        "\n",
        "**Problem Statement:**  \n",
        "Let $X$ and $Y$ be two continuous random variables with joint probability density function (PDF):\n",
        "$$\n",
        "f_{X,Y}(x, y) = \\begin{cases}\n",
        "6(1 - y), & 0 \\leq x \\leq 1, 0 \\leq y \\leq 1 \\\\\n",
        "0, & \\text{otherwise}\n",
        "\\end{cases}\n",
        "$$\n",
        "\n",
        "Define the function $ g(X, Y) = X^2 + Y $.  \n",
        "Using Monte Carlo simulation:\n",
        "1. Generate $ N = 10,000 $ samples of $(X, Y)$ from the given joint distribution.\n",
        "2. Estimate $ E[g(X, Y)] = E[X^2 + Y] $.\n",
        "3. Compare your empirical estimate with the analytical solution.\n",
        "\n",
        "**Instructions:**  \n",
        "- Plot the sampled distribution of $(X, Y)$.\n",
        "- Compute and report the relative error between the estimated and analytical expectation."
      ]
    },
    {
      "cell_type": "markdown",
      "metadata": {},
      "source": [
        "### Solution"
      ]
    },
    {
      "cell_type": "markdown",
      "metadata": {},
      "source": [
        "**Error in question:**  \n",
        "The PDF $f_{X,Y}(x, y)$ is NOT valid. The total integral of the PDF should equal 1, but here it equals 3.\n",
        "\n",
        "$$\n",
        "\\int_0^1 \\int_0^1 6(1-y) \\, dx \\, dy = \\int_0^1 \\left[ \\int_0^1 6(1-y) \\, dx \\right] dy = \\int_0^1 \\left[ 6(1-y) \\cdot 1 \\right] dy = \\int_0^1 6(1-y) \\, dy\n",
        "$$\n",
        "$$\n",
        "= 6 \\left[ y - \\frac{y^2}{2} \\right]_0^1 = 6 \\left( 1 - \\frac{1}{2} \\right) = 3\n",
        "$$\n",
        "\n",
        "So, we shall normalise it to:\n",
        "$$\n",
        "f_{X,Y}(x, y) = \\begin{cases}\n",
        "2(1 - y), & 0 \\leq x \\leq 1, 0 \\leq y \\leq 1 \\\\\n",
        "0, & \\text{otherwise}\n",
        "\\end{cases}\n",
        "$$"
      ]
    },
    {
      "cell_type": "code",
      "execution_count": null,
      "metadata": {},
      "outputs": [],
      "source": [
        "def joint_pdf(x,y):\n",
        "    return torch.where((x >= 0) & (x <= 1) & (y >= 0) & (y <= 1),2(1-y), torch.zeros_like(0))"
      ]
    },
    {
      "cell_type": "markdown",
      "metadata": {
        "id": "UrHpaLXyaYQ9"
      },
      "source": [
        "### **Question 2: Linearity of Expectation in Joint Distributions**\n",
        "\n",
        "**Objective:** Verify the linearity property of expectation using joint distributions.\n",
        "\n",
        "**Problem Statement:**  \n",
        "For any two random variables $ X $ and $ Y $, the expectation satisfies:\n",
        "\n",
        "$$\n",
        "E[aX + bY] = aE[X] + bE[Y]\n",
        "$$\n",
        "\n",
        "for constants $ a, b $. Using the joint PDF from Question 1:\n",
        "\n",
        "**Tasks:**\n",
        "1. Choose arbitrary values for $ a $ and $ b $.\n",
        "2. Compute $ E[aX + bY] $ analytically and using Monte Carlo simulation.\n",
        "3. Compute $ aE[X] + bE[Y] $ analytically and using Monte Carlo simulation.\n",
        "4. Compare both results and compute the relative error.\n",
        "5. Discuss why the linearity of expectation holds regardless of dependence between $ X $ and $ Y $.\n"
      ]
    },
    {
      "cell_type": "code",
      "execution_count": null,
      "metadata": {},
      "outputs": [],
      "source": []
    },
    {
      "cell_type": "markdown",
      "metadata": {
        "id": "YJgH6cbqbmHf"
      },
      "source": [
        "# **3. Correlation and covariance**"
      ]
    },
    {
      "cell_type": "markdown",
      "metadata": {
        "id": "alYVUolXGONp"
      },
      "source": [
        "### **Question 1: Correlation Matrix and Identifying Highly Correlated Features**  \n",
        "Given a batch of N samples with d features, implement a PyTorch function that computes the correlation matrix (from scratch without using torch.corrcoef) for the dataset. And then Identify Highly Correlated Features which are above a given threshold (e.g., 0.8). Return a list of feature pairs along with their correlation values.\n",
        "\n",
        "#### **Example:**  \n",
        "```python\n",
        "import torch\n",
        "\n",
        "def correlation_matrix(X):\n",
        "\n",
        "def highly_correlated_features(X, threshold=0.8):\n",
        "\n",
        "X = torch.randn(100, 5)\n",
        "print(correlation_matrix(X))\n",
        "print(highly_correlated_features(X, 0.1))\n",
        "\n",
        "\n",
        "```"
      ]
    },
    {
      "cell_type": "code",
      "execution_count": null,
      "metadata": {},
      "outputs": [],
      "source": [
        "def correlation_matrix(X):\n",
        "\n",
        "\n",
        "def highly_correlated_features(X, threshold=0.8):\n",
        "\n",
        "\n",
        "X = torch.randn(100, 5)\n",
        "print(correlation_matrix(X))\n",
        "print(highly_correlated_features(X, 0.1))"
      ]
    },
    {
      "cell_type": "markdown",
      "metadata": {
        "id": "LRCnAfTgINx8"
      },
      "source": [
        "### **Question 2: Weighted Covariance**  \n",
        "Compute a weighted covariance between two 1D PyTorch tensors `x` and `y`, where each sample pair `(x[i], y[i])` is assigned a weight `w[i]` from a weights tensor `weights`.\n",
        "\n",
        "In the **weighted** version, each sample pair `(x[i], y[i])` is multiplied by a weight `w[i]`, and the means and covariance are adjusted accordingly. The weighted covariance formula becomes:\n",
        "\n",
        "$$ \\text{Cov}_w(X, Y) = \\frac{1}{\\sum w_i - 1} \\sum_{i=1}^{n} w_i (x_i - \\bar{x}_w)(y_i - \\bar{y}_w) $$\n",
        "\n",
        "where:\n",
        "\n",
        "$$ \\bar{x}_w = \\frac{\\sum w_i x_i}{\\sum w_i} $$\n",
        "$$ \\bar{y}_w = \\frac{\\sum w_i y_i}{\\sum w_i} $$\n",
        "\n"
      ]
    },
    {
      "cell_type": "markdown",
      "metadata": {
        "id": "td39XOhGASdr"
      },
      "source": [
        "# **4. Conditional Distributions**"
      ]
    },
    {
      "cell_type": "markdown",
      "metadata": {
        "id": "ErMQyATUHBcy"
      },
      "source": [
        "### **Question 1:**\n",
        "\n",
        "Let $X$ and $Y$ be continuous random variables with the joint PDF:\n",
        "\n",
        "$\n",
        "f_{X,Y}(x,y) = 2 e^{-x} e^{-y}, \\quad {0} \\leq {y} \\leq {x} < \\infty\n",
        "$\n",
        "\n",
        "Write a Python program that:\n",
        "\n",
        "1. Computes the **marginal PDF** $(f_Y(y))$ for $y=1$:\n",
        "\n",
        "   $\n",
        "   f_Y(y) = \\int_{y}^{\\infty} f_{X,Y}(x,y) \\, dx\n",
        "   $\n",
        "\n",
        "2. Computes the **conditional PDF** $( f_{X|Y}(x | y))$ for $x=2$ and $y=1$:\n",
        "\n",
        "   $\n",
        "   f_{X|Y}(x | y) = \\frac{f_{X,Y}(x,y)}{f_Y(y)}\n",
        "   $\n"
      ]
    },
    {
      "cell_type": "markdown",
      "metadata": {
        "id": "8DWLGzgvJU6J"
      },
      "source": [
        "### **Question 2:**\n",
        "\n",
        "A binary signal \\( X \\) is transmitted over a noisy channel:\n",
        "\n",
        "$\n",
        "X =\n",
        "\\begin{cases}\n",
        "+1, & \\text{with probability } \\frac{1}{2} \\\\\n",
        "-1, & \\text{with probability } \\frac{1}{2}\n",
        "\\end{cases}\n",
        "$\n",
        "\n",
        "The received signal is modeled as:\n",
        "\n",
        "$\n",
        "Y = X + N, \\quad N \\sim \\mathcal{N}(0,1)\n",
        "$\n",
        "\n",
        "where $( N $) is Gaussian noise with mean 0 and variance 1.\n",
        "\n",
        "**To do:**\n",
        "\n",
        "1. Compute and plot the likelihood function $( P(Y | X) )$.\n",
        "2. Use **Bayes' theorem** to compute and plot the posterior probability:\n",
        "\n",
        "   $\n",
        "   P(X = +1 | Y > 0)\n",
        "   $\n",
        "\n",
        "3. Create a **3D surface plot** to visualize $P(X | Y)$ as a function of both $( X )$ and $( Y )$.\n"
      ]
    },
    {
      "cell_type": "markdown",
      "metadata": {
        "id": "UKSMzRHrt3nK"
      },
      "source": [
        "# **5. Conditional expectation**"
      ]
    },
    {
      "cell_type": "markdown",
      "metadata": {
        "id": "MPYrUOwJwUgD"
      },
      "source": [
        "### **Question 1:**\n",
        "You roll two fair 6-sided dice. Let S be the sum of the two dice, and let M be the maximum of the two dice.\n",
        "\n",
        "- Theoretical Computation:\n",
        "\n",
        "  Compute the unconditional expectation E[M], the expected maximum of two dice rolls.\n",
        "\n",
        "  Compute the conditional expectation E[M∣S is even], the expected maximum given that the sum is even.\n",
        "\n",
        "- Write a Python function simulate_dice_rolls(n) that:\n",
        "\n",
        "  Simulates rolling two dice n times.\n",
        "\n",
        "  Estimates both E[M] and E[M∣S is even].\n",
        "\n",
        "  Compares the estimated values with the theoretical results.\n",
        "\n",
        "  Run the function for 10,000 simulations and interpret the results.\n",
        "\n"
      ]
    },
    {
      "cell_type": "markdown",
      "metadata": {
        "id": "F8ORbhiw7vOG"
      },
      "source": [
        "# **6. Sum of two random variables**"
      ]
    },
    {
      "cell_type": "markdown",
      "metadata": {
        "id": "gzPaea3G76vX"
      },
      "source": [
        "### **Question 1:**\n",
        "Write a Python program to simulate the sum of two independent discrete uniform random variables \\( X \\) and \\( Y \\), where both are uniformly distributed over \\{0, 1, 2, 3\\}.\n",
        "\n",
        "- Generate **100,000** random samples of \\( X \\) and \\( Y \\).\n",
        "- Compute \\( Z = X + Y \\) for each sample.\n",
        "- Plot the empirical probability mass function (PMF) of \\( Z \\) using Matplotlib.\n",
        "- Compare the simulated PMF with the theoretical PMF.\n"
      ]
    },
    {
      "cell_type": "markdown",
      "metadata": {
        "id": "tWRAm0IfLsK5"
      },
      "source": [
        "# **7. Examples of sum of two random variables**"
      ]
    },
    {
      "cell_type": "markdown",
      "metadata": {
        "id": "eeBlEyJVMuqI"
      },
      "source": [
        "### **Question 1: Numerical Convolution of Exponential PDFs**\n",
        "\n",
        "Let \\(X\\) and \\(Y\\) be independent random variables with PDFs:\n",
        "\n",
        "\\\n",
        "f_X(x) =\n",
        "\\begin{cases}\n",
        "x e^{-x}, & x \\geq 0 \\\\\n",
        "0, & \\text{otherwise}\n",
        "\\end{cases}\n",
        "\n",
        "f_Y(y) =\n",
        "\\begin{cases}\n",
        "y e^{-y}, & y \\geq 0 \\\\\n",
        "0, & \\text{otherwise}\n",
        "\\end{cases}\n",
        "\n",
        "\n",
        "**Task**:  \n",
        "1. Numerically compute the PDF of \\(Z = X + Y\\)\n",
        "2. Compare your numerical result with the analytical solution:\n",
        "   \\[\n",
        "   f_Z(z) =\n",
        "   \\begin{cases}\n",
        "   \\dfrac{z^3}{6} e^{-z}, & z \\geq 0 \\\\\n",
        "   0, & \\text{otherwise}\n",
        "   \\end{cases}\n",
        "   \n"
      ]
    },
    {
      "cell_type": "code",
      "execution_count": null,
      "metadata": {},
      "outputs": [
        {
          "data": {
            "image/png": "[encoded data removed]",
            "text/plain": [
              "<Figure size 1200x500 with 2 Axes>"
            ]
          },
          "metadata": {},
          "output_type": "display_data"
        }
      ],
      "source": [
        "def f_X(x):\n",
        "    return torch.where(x >= 0, x*torch.exp(-x), torch.zeros_like(x))\n",
        "\n",
        "def f_Y(y):\n",
        "    return torch.where(y >= 0, y*torch.exp(-y), torch.zeros_like(y))\n",
        "\n",
        "x_vals = torch.linspace(0, 20, 1000)\n",
        "\n",
        "y_vals = torch.linspace(0, 20, 1000)\n",
        "\n",
        "plt.figure(figsize=(12, 5))\n",
        "\n",
        "plt.subplot(1, 2, 1)\n",
        "plt.plot(x_vals.numpy(), f_X(x_vals).numpy(), color='red')\n",
        "plt.title(\"PDF of X\")\n",
        "plt.xlabel(\"x\")\n",
        "plt.ylabel(\"f_X(x)\")\n",
        "\n",
        "plt.subplot(1, 2, 2)\n",
        "plt.plot(y_vals.numpy(), f_Y(y_vals).numpy())\n",
        "plt.title(\"PDF of Y\")\n",
        "plt.xlabel(\"y\")\n",
        "plt.ylabel(\"f_Y(y)\")\n",
        "\n",
        "plt.tight_layout()\n",
        "plt.show()"
      ]
    },
    {
      "cell_type": "code",
      "execution_count": 32,
      "metadata": {},
      "outputs": [
        {
          "data": {
            "image/png": "[encoded data removed]",
            "text/plain": [
              "<Figure size 640x480 with 1 Axes>"
            ]
          },
          "metadata": {},
          "output_type": "display_data"
        }
      ],
      "source": [
        "# Numerical convolution\n",
        "\n",
        "def f_Z(z):\n",
        "    return torch.where(z >= 0, z**3 / 6 * torch.exp(-z), torch.zeros_like(z))\n",
        "\n",
        "dy = y_vals[1] - y_vals[0]\n",
        "\n",
        "z_vals = torch.linspace(0, 20, 100)\n",
        "\n",
        "f_Z_numerical = []\n",
        "\n",
        "for z in z_vals:\n",
        "    integrand = f_X(z - y_vals) * f_Y(y_vals)\n",
        "    integral = torch.sum(integrand) * dy\n",
        "    f_Z_numerical.append(integral)\n",
        "\n",
        "plt.plot(z_vals.numpy(), f_Z(z_vals).numpy(), label='Analytical PDF', color='orange')\n",
        "plt.plot(z_vals.numpy(), f_Z_numerical, label='Numerical PDF', color='blue', linestyle=':')\n",
        "plt.title(\"PDF of Z\")\n",
        "plt.xlabel(\"z\")\n",
        "plt.ylabel(\"f_Z(z)\")\n",
        "plt.legend()\n",
        "plt.show()"
      ]
    },
    {
      "cell_type": "markdown",
      "metadata": {
        "id": "44RAkX_DRulb"
      },
      "source": [
        "### **Question 2: Simulate the sum of two Gaussian variables**\n",
        "X\n",
        "∼\n",
        "N\n",
        "(\n",
        "1\n",
        ",\n",
        "2\n",
        ")\n",
        " and\n",
        "Y\n",
        "∼\n",
        "N\n",
        "(\n",
        "3\n",
        ",\n",
        "4\n",
        ")\n",
        " and verify that\n",
        "X\n",
        "+\n",
        "Y\n",
        "∼\n",
        "N\n",
        "(\n",
        "4\n",
        ",\n",
        "6\n",
        ")\n"
      ]
    },
    {
      "cell_type": "markdown",
      "metadata": {},
      "source": [
        "**NOTE:** Here, we shall solve the question assuming the notation as N(μ, σ²), not N(μ, σ)"
      ]
    },
    {
      "cell_type": "code",
      "execution_count": null,
      "metadata": {},
      "outputs": [
        {
          "ename": "TypeError",
          "evalue": "sqrt(): argument 'input' (position 1) must be Tensor, not float",
          "output_type": "error",
          "traceback": [
            "\u001b[31m---------------------------------------------------------------------------\u001b[39m",
            "\u001b[31mTypeError\u001b[39m                                 Traceback (most recent call last)",
            "\u001b[36mCell\u001b[39m\u001b[36m \u001b[39m\u001b[32mIn[35]\u001b[39m\u001b[32m, line 17\u001b[39m\n\u001b[32m     14\u001b[39m plt.figure(figsize=(\u001b[32m12\u001b[39m, \u001b[32m5\u001b[39m))\n\u001b[32m     16\u001b[39m plt.subplot(\u001b[32m1\u001b[39m, \u001b[32m2\u001b[39m, \u001b[32m1\u001b[39m)\n\u001b[32m---> \u001b[39m\u001b[32m17\u001b[39m plt.plot(x_vals.numpy(), \u001b[43mf_X\u001b[49m\u001b[43m(\u001b[49m\u001b[43mx_vals\u001b[49m\u001b[43m)\u001b[49m.numpy(), color=\u001b[33m'\u001b[39m\u001b[33mred\u001b[39m\u001b[33m'\u001b[39m)\n\u001b[32m     18\u001b[39m plt.title(\u001b[33m\"\u001b[39m\u001b[33mPDF of X\u001b[39m\u001b[33m\"\u001b[39m)\n\u001b[32m     19\u001b[39m plt.xlabel(\u001b[33m\"\u001b[39m\u001b[33mx\u001b[39m\u001b[33m\"\u001b[39m)\n",
            "\u001b[36mCell\u001b[39m\u001b[36m \u001b[39m\u001b[32mIn[35]\u001b[39m\u001b[32m, line 5\u001b[39m, in \u001b[36mf_X\u001b[39m\u001b[34m(x)\u001b[39m\n\u001b[32m      4\u001b[39m \u001b[38;5;28;01mdef\u001b[39;00m\u001b[38;5;250m \u001b[39m\u001b[34mf_X\u001b[39m(x):\n\u001b[32m----> \u001b[39m\u001b[32m5\u001b[39m     \u001b[38;5;28;01mreturn\u001b[39;00m \u001b[43mnormal_pdf\u001b[49m\u001b[43m(\u001b[49m\u001b[43mtorch\u001b[49m\u001b[43m.\u001b[49m\u001b[43mtensor\u001b[49m\u001b[43m(\u001b[49m\u001b[43m(\u001b[49m\u001b[32;43m1\u001b[39;49m\u001b[43m,\u001b[49m\u001b[43m)\u001b[49m\u001b[43m)\u001b[49m\u001b[43m,\u001b[49m\u001b[43m \u001b[49m\u001b[43mtorch\u001b[49m\u001b[43m.\u001b[49m\u001b[43mtensor\u001b[49m\u001b[43m(\u001b[49m\u001b[43m(\u001b[49m\u001b[32;43m2\u001b[39;49m\u001b[43m,\u001b[49m\u001b[43m)\u001b[49m\u001b[43m)\u001b[49m\u001b[43m,\u001b[49m\u001b[43mx\u001b[49m\u001b[43m)\u001b[49m\n",
            "\u001b[36mCell\u001b[39m\u001b[36m \u001b[39m\u001b[32mIn[35]\u001b[39m\u001b[32m, line 2\u001b[39m, in \u001b[36mnormal_pdf\u001b[39m\u001b[34m(mu, sigma, x_vals)\u001b[39m\n\u001b[32m      1\u001b[39m \u001b[38;5;28;01mdef\u001b[39;00m\u001b[38;5;250m \u001b[39m\u001b[34mnormal_pdf\u001b[39m(mu, sigma, x_vals):\n\u001b[32m----> \u001b[39m\u001b[32m2\u001b[39m     \u001b[38;5;28;01mreturn\u001b[39;00m torch.exp(-\u001b[32m0.5\u001b[39m * ((x_vals - mu) / sigma)**\u001b[32m2\u001b[39m) / (sigma * \u001b[43mtorch\u001b[49m\u001b[43m.\u001b[49m\u001b[43msqrt\u001b[49m\u001b[43m(\u001b[49m\u001b[32;43m2\u001b[39;49m\u001b[43m \u001b[49m\u001b[43m*\u001b[49m\u001b[43m \u001b[49m\u001b[43mtorch\u001b[49m\u001b[43m.\u001b[49m\u001b[43mpi\u001b[49m\u001b[43m)\u001b[49m)\n",
            "\u001b[31mTypeError\u001b[39m: sqrt(): argument 'input' (position 1) must be Tensor, not float"
          ]
        },
        {
          "data": {
            "image/png": "[encoded data removed]",
            "text/plain": [
              "<Figure size 1200x500 with 1 Axes>"
            ]
          },
          "metadata": {},
          "output_type": "display_data"
        }
      ],
      "source": [
        "def normal_pdf(mu, sigma, x_vals):\n",
        "    return torch.exp(-0.5 * ((x_vals - mu) / sigma)**2) / (sigma * torch.sqrt(2 * torch.pi))\n",
        "\n",
        "def f_X(x):\n",
        "    return normal_pdf(1,2,x)\n",
        "\n",
        "def f_Y(y):\n",
        "    return normal_pdf(3,4,y)\n",
        "\n",
        "x_vals = torch.linspace(0, 20, 1000)\n",
        "\n",
        "y_vals = torch.linspace(0, 20, 1000)\n",
        "\n",
        "plt.figure(figsize=(12, 5))\n",
        "\n",
        "plt.subplot(1, 2, 1)\n",
        "plt.plot(x_vals.numpy(), f_X(x_vals).numpy(), color='red')\n",
        "plt.title(\"PDF of X\")\n",
        "plt.xlabel(\"x\")\n",
        "plt.ylabel(\"f_X(x)\")\n",
        "\n",
        "plt.subplot(1, 2, 2)\n",
        "plt.plot(y_vals.numpy(), f_Y(y_vals).numpy())\n",
        "plt.title(\"PDF of Y\")\n",
        "plt.xlabel(\"y\")\n",
        "plt.ylabel(\"f_Y(y)\")\n",
        "\n",
        "plt.tight_layout()\n",
        "plt.show()"
      ]
    },
    {
      "cell_type": "markdown",
      "metadata": {
        "id": "seILlJc0OxcQ"
      },
      "source": [
        "# **8. Jensen's Inequality**"
      ]
    },
    {
      "cell_type": "markdown",
      "metadata": {
        "id": "nzAoMOZRVh_l"
      },
      "source": [
        "### **Question 1:**\n",
        "\n",
        "Jensen’s inequality states that for a convex function $f(x)$ and a random variable $X$:\n",
        "\n",
        "$$\n",
        "f(\\mathbb{E}[X]) \\leq \\mathbb{E}[f(X)]\n",
        "$$\n",
        "\n",
        "Task:\n",
        "\n",
        "- Choose a convex function $f(x)$ (e.g. $f(x) = x^2$ or $f(x) = e^x$)\n",
        "- Generate random samples of $X$ from a given probability distribution (e.g., Normal, Uniform, or Exponential).\n",
        "- Compute both sides of Jensen’s inequality using Python.\n",
        "- Compare the results and check if Jensen’s inequality holds.\n",
        "\n",
        "What would happen if you now take a concave function? What did you observe?\n",
        "\n",
        "How does the different between $f(\\mathbb{E}[X])$ and $\\mathbb{E}[f(X)]$ change for different distributions? Write down all your observations in markdown cell.\n",
        "\n"
      ]
    },
    {
      "cell_type": "markdown",
      "metadata": {
        "id": "SZRaMFlvz6xF"
      },
      "source": [
        "# **9. Markov and Chebyshev inequality**"
      ]
    },
    {
      "cell_type": "markdown",
      "metadata": {
        "id": "IiRBZjJRz_0S"
      },
      "source": [
        "### **Question 1: Markov inequality**\n",
        "Let $X$ be a non-negative random variable with an expected value $\\mathbb{E}[X] = 10$. Markov’s inequality states that for any $a > 0$:\n",
        "\n",
        "$$\n",
        "P(X \\geq a) \\leq \\frac{\\mathbb{E}[X]}{a}\n",
        "$$\n",
        "\n",
        "---\n",
        "\n",
        "## **Tasks**\n",
        "1. **Analytical Task:**  \n",
        "   Use Markov’s inequality to find an upper bound on $P(X \\geq 25)$.\n",
        "\n",
        "2. **Coding Task:**  \n",
        "   - Simulate 100,000 samples from an **Exponential distribution** with rate $\\lambda = \\frac{1}{10}$, which has an expected value of $\\mathbb{E}[X] = 10$.  \n",
        "   - Estimate $P(X \\geq 25)$ empirically using the generated samples.  \n",
        "\n",
        "3. **Comparison:**  \n",
        "   - Compare the empirical probability with the Markov bound.  \n",
        "   - Discuss whether the bound is tight.\n",
        "\n",
        "---\n",
        "\n",
        "## **Hints**\n",
        "- The exponential distribution with rate $\\lambda$ has mean $\\frac{1}{\\lambda}$.\n"
      ]
    },
    {
      "cell_type": "markdown",
      "metadata": {
        "id": "v-ycwwm14GuJ"
      },
      "source": [
        "### **Question 2: Chebyshev’s Inequality**"
      ]
    },
    {
      "cell_type": "markdown",
      "metadata": {
        "id": "HG1qr66k4QoS"
      },
      "source": [
        "For a set of i.i.d. random variables $X_1, X_2, \\dots, X_N$ with mean $\\mu = 5$ and variance $\\sigma^2 = 4$, the sample mean is:\n",
        "\n",
        "$$\n",
        "\\bar{X} = \\frac{1}{N} \\sum_{i=1}^{N} X_i\n",
        "$$\n",
        "\n",
        "Chebyshev’s inequality states:\n",
        "\n",
        "$$\n",
        "P(|\\bar{X} - \\mu| \\geq k) \\leq \\frac{\\sigma^2}{N k^2}\n",
        "$$\n",
        "\n",
        "### **Tasks**\n",
        "\n",
        "1. **Analytical Task:**\n",
        "   - Use Chebyshev’s inequality to find an upper bound for $P(|\\bar{X} - 5| \\geq 1)$ for $N = 10$ and $N = 100$.\n",
        "\n",
        "2. **Coding Task:**\n",
        "   - Simulate 100,000 trials where you compute sample means for $N = 10$ and $N = 100$, assuming each $X_i \\sim U[3, 7]$ (uniform distribution on the interval [3, 7]).\n",
        "   - Estimate $P(|\\bar{X} - 5| \\geq 1)$ empirically from the simulations.\n",
        "\n",
        "3. **Comparison and Discussion:**\n",
        "    - Compare the simulated probabilities with the theoretical bounds. Discuss how the probability behaves as $ N \\to \\infty $, linking this to the **Weak Law of Large Numbers**."
      ]
    }
  ],
  "metadata": {
    "colab": {
      "collapsed_sections": [
        "td39XOhGASdr",
        "UKSMzRHrt3nK",
        "F8ORbhiw7vOG",
        "eeBlEyJVMuqI"
      ],
      "provenance": []
    },
    "kernelspec": {
      "display_name": "Python 3",
      "name": "python3"
    },
    "language_info": {
      "codemirror_mode": {
        "name": "ipython",
        "version": 3
      },
      "file_extension": ".py",
      "mimetype": "text/x-python",
      "name": "python",
      "nbconvert_exporter": "python",
      "pygments_lexer": "ipython3",
      "version": "3.11.6"
    }
  },
  "nbformat": 4,
  "nbformat_minor": 0
}
