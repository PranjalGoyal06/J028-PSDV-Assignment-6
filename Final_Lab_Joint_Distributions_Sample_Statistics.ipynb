{
  "cells": [
    {
      "cell_type": "markdown",
      "metadata": {},
      "source": [
        "# Assignment 6\n",
        "ES 114: Probability, Statistics and Data Visualisation\n",
        "\n",
        "Authors: Group **J028**\n",
        "1. Kowel P Laloo - 24110168\n",
        "2. Pranav Ram R - 24110270\n",
        "3. Pranjal Goyal - 24110274"
      ]
    },
    {
      "cell_type": "code",
      "execution_count": 1,
      "metadata": {},
      "outputs": [
        {
          "name": "stdout",
          "output_type": "stream",
          "text": [
            "1.26.4\n"
          ]
        }
      ],
      "source": [
        "import matplotlib.pyplot as plt\n",
        "import numpy as np\n",
        "print(np.__version__)\n",
        "import torch \n",
        "import torch.nn as nn\n",
        "\n",
        "import pandas as pd\n",
        "# Retina mode\n",
        "%matplotlib inline\n",
        "%config InlineBackend.figure_format = 'retina'"
      ]
    },
    {
      "cell_type": "markdown",
      "metadata": {
        "id": "YWj5Zqd85REh"
      },
      "source": [
        "# **1. Joint PDF, PMF and CDF**"
      ]
    },
    {
      "cell_type": "markdown",
      "metadata": {
        "id": "ly_bolIU4Cw3"
      },
      "source": [
        "### **Question 1: Joint PMF of Two Dice**\n",
        "\n",
        "Write a Python function that computes the joint probability mass function (PMF) of the sum of two fair six-sided dice. The function should:\n",
        "\n",
        "Generate all possible outcomes of rolling two six-sided dice.\n",
        "\n",
        "Compute and return the joint PMF as a dictionary, where keys are tuples\n",
        "(𝑋,𝑌) representing the outcomes of the two dice, and values are the corresponding probabilities."
      ]
    },
    {
      "cell_type": "markdown",
      "metadata": {
        "id": "sH_EA3Li4ftZ"
      },
      "source": [
        "### **Question 2: Joint CDF of Two Dice**\n",
        "\n",
        "Write a Python function that calculates the joint cumulative distribution function (CDF) for rolling two six-sided dice. The function should:\n",
        "\n",
        "Accept two integers a and b, representing dice outcomes up to which the CDF is computed.\n",
        "\n",
        "Compute 𝑃(𝑋≤𝑎,𝑌≤𝑏) which is the probability that the first die is at most a and the second die is at most b."
      ]
    },
    {
      "cell_type": "markdown",
      "metadata": {
        "id": "IPrOcqhiWpn-"
      },
      "source": [
        "# **2. Joint Expectation**"
      ]
    },
    {
      "cell_type": "markdown",
      "metadata": {
        "id": "hG2qVeOAWy4C"
      },
      "source": [
        "### **Question 1: Monte Carlo Estimation of Joint Expectation**\n",
        "\n",
        "**Objective:** Implement a Monte Carlo simulation to estimate the expected value of a function of two jointly distributed random variables.\n",
        "\n",
        "**Problem Statement:**  \n",
        "Let $X$ and $Y$ be two continuous random variables with joint probability density function (PDF):\n",
        "$$\n",
        "f_{X,Y}(x, y) = \\begin{cases}\n",
        "6(1 - y), & 0 \\leq x \\leq 1, 0 \\leq y \\leq 1 \\\\\n",
        "0, & \\text{otherwise}\n",
        "\\end{cases}\n",
        "$$\n",
        "\n",
        "Define the function $ g(X, Y) = X^2 + Y $.  \n",
        "Using Monte Carlo simulation:\n",
        "1. Generate $ N = 10,000 $ samples of $(X, Y)$ from the given joint distribution.\n",
        "2. Estimate $ E[g(X, Y)] = E[X^2 + Y] $.\n",
        "3. Compare your empirical estimate with the analytical solution.\n",
        "\n",
        "**Instructions:**  \n",
        "- Plot the sampled distribution of $(X, Y)$.\n",
        "- Compute and report the relative error between the estimated and analytical expectation."
      ]
    },
    {
      "cell_type": "markdown",
      "metadata": {
        "id": "UrHpaLXyaYQ9"
      },
      "source": [
        "### **Question 2: Linearity of Expectation in Joint Distributions**\n",
        "\n",
        "**Objective:** Verify the linearity property of expectation using joint distributions.\n",
        "\n",
        "**Problem Statement:**  \n",
        "For any two random variables $ X $ and $ Y $, the expectation satisfies:\n",
        "\n",
        "$$\n",
        "E[aX + bY] = aE[X] + bE[Y]\n",
        "$$\n",
        "\n",
        "for constants $ a, b $. Using the joint PDF from Question 1:\n",
        "\n",
        "**Tasks:**\n",
        "1. Choose arbitrary values for $ a $ and $ b $.\n",
        "2. Compute $ E[aX + bY] $ analytically and using Monte Carlo simulation.\n",
        "3. Compute $ aE[X] + bE[Y] $ analytically and using Monte Carlo simulation.\n",
        "4. Compare both results and compute the relative error.\n",
        "5. Discuss why the linearity of expectation holds regardless of dependence between $ X $ and $ Y $.\n"
      ]
    },
    {
      "cell_type": "markdown",
      "metadata": {
        "id": "YJgH6cbqbmHf"
      },
      "source": [
        "# **3. Correlation and covariance**"
      ]
    },
    {
      "cell_type": "markdown",
      "metadata": {
        "id": "alYVUolXGONp"
      },
      "source": [
        "### **Question 1: Correlation Matrix and Identifying Highly Correlated Features**  \n",
        "Given a batch of N samples with d features, implement a PyTorch function that computes the correlation matrix (from scratch without using torch.corrcoef) for the dataset. And then Identify Highly Correlated Features which are above a given threshold (e.g., 0.8). Return a list of feature pairs along with their correlation values.\n",
        "\n",
        "#### **Example:**  \n",
        "```python\n",
        "import torch\n",
        "\n",
        "def correlation_matrix(X):\n",
        "\n",
        "def highly_correlated_features(X, threshold=0.8):\n",
        "\n",
        "X = torch.randn(100, 5)\n",
        "print(correlation_matrix(X))\n",
        "print(highly_correlated_features(X, 0.1))\n",
        "\n",
        "\n",
        "```"
      ]
    },
    {
      "cell_type": "markdown",
      "metadata": {
        "id": "LRCnAfTgINx8"
      },
      "source": [
        "### **Question 2: Weighted Covariance**  \n",
        "Compute a weighted covariance between two 1D PyTorch tensors `x` and `y`, where each sample pair `(x[i], y[i])` is assigned a weight `w[i]` from a weights tensor `weights`.\n",
        "\n",
        "In the **weighted** version, each sample pair `(x[i], y[i])` is multiplied by a weight `w[i]`, and the means and covariance are adjusted accordingly. The weighted covariance formula becomes:\n",
        "\n",
        "$$ \\text{Cov}_w(X, Y) = \\frac{1}{\\sum w_i - 1} \\sum_{i=1}^{n} w_i (x_i - \\bar{x}_w)(y_i - \\bar{y}_w) $$\n",
        "\n",
        "where:\n",
        "\n",
        "$$ \\bar{x}_w = \\frac{\\sum w_i x_i}{\\sum w_i} $$\n",
        "$$ \\bar{y}_w = \\frac{\\sum w_i y_i}{\\sum w_i} $$\n",
        "\n"
      ]
    },
    {
      "cell_type": "markdown",
      "metadata": {
        "id": "td39XOhGASdr"
      },
      "source": [
        "# **4. Conditional Distributions**"
      ]
    },
    {
      "cell_type": "markdown",
      "metadata": {
        "id": "ErMQyATUHBcy"
      },
      "source": [
        "### **Question 1:**\n",
        "\n",
        "Let $X$ and $Y$ be continuous random variables with the joint PDF:\n",
        "\n",
        "$\n",
        "f_{X,Y}(x,y) = 2 e^{-x} e^{-y}, \\quad {0} \\leq {y} \\leq {x} < \\infty\n",
        "$\n",
        "\n",
        "Write a Python program that:\n",
        "\n",
        "1. Computes the **marginal PDF** $(f_Y(y))$ for $y=1$:\n",
        "\n",
        "   $\n",
        "   f_Y(y) = \\int_{y}^{\\infty} f_{X,Y}(x,y) \\, dx\n",
        "   $\n",
        "\n",
        "2. Computes the **conditional PDF** $( f_{X|Y}(x | y))$ for $x=2$ and $y=1$:\n",
        "\n",
        "   $\n",
        "   f_{X|Y}(x | y) = \\frac{f_{X,Y}(x,y)}{f_Y(y)}\n",
        "   $\n"
      ]
    },
    {
      "cell_type": "code",
      "execution_count": null,
      "metadata": {},
      "outputs": [
        {
          "ename": "TypeError",
          "evalue": "expected Tensor as element 0 in argument 0, but got numpy.ndarray",
          "output_type": "error",
          "traceback": [
            "\u001b[0;31m---------------------------------------------------------------------------\u001b[0m",
            "\u001b[0;31mTypeError\u001b[0m                                 Traceback (most recent call last)",
            "Cell \u001b[0;32mIn[2], line 4\u001b[0m\n\u001b[1;32m      1\u001b[0m x \u001b[38;5;241m=\u001b[39m np\u001b[38;5;241m.\u001b[39mlinspace(\u001b[38;5;241m0\u001b[39m,\u001b[38;5;241m10000\u001b[39m,\u001b[38;5;241m1\u001b[39m)\n\u001b[1;32m      2\u001b[0m y \u001b[38;5;241m=\u001b[39m np\u001b[38;5;241m.\u001b[39mlinspace(\u001b[38;5;241m0\u001b[39m,x\u001b[38;5;241m+\u001b[39m\u001b[38;5;241m1\u001b[39m,\u001b[38;5;241m1\u001b[39m)\n\u001b[0;32m----> 4\u001b[0m X, Y \u001b[38;5;241m=\u001b[39m torch\u001b[38;5;241m.\u001b[39mmeshgrid(x, y)\n\u001b[1;32m      6\u001b[0m \u001b[38;5;28;01mdef\u001b[39;00m \u001b[38;5;21mjoint_pdf\u001b[39m(x, y):\n\u001b[1;32m      7\u001b[0m     \u001b[38;5;28;01mreturn\u001b[39;00m \u001b[38;5;241m2\u001b[39m \u001b[38;5;241m*\u001b[39m torch\u001b[38;5;241m.\u001b[39mexp(\u001b[38;5;241m-\u001b[39mx) \u001b[38;5;241m*\u001b[39m torch\u001b[38;5;241m.\u001b[39mexp(\u001b[38;5;241m-\u001b[39my)\n",
            "File \u001b[0;32m/opt/anaconda3/lib/python3.12/site-packages/torch/functional.py:524\u001b[0m, in \u001b[0;36mmeshgrid\u001b[0;34m(indexing, *tensors)\u001b[0m\n\u001b[1;32m    430\u001b[0m \u001b[38;5;28;01mdef\u001b[39;00m \u001b[38;5;21mmeshgrid\u001b[39m(\u001b[38;5;241m*\u001b[39mtensors, indexing: Optional[\u001b[38;5;28mstr\u001b[39m] \u001b[38;5;241m=\u001b[39m \u001b[38;5;28;01mNone\u001b[39;00m) \u001b[38;5;241m-\u001b[39m\u001b[38;5;241m>\u001b[39m Tuple[Tensor, \u001b[38;5;241m.\u001b[39m\u001b[38;5;241m.\u001b[39m\u001b[38;5;241m.\u001b[39m]:\n\u001b[1;32m    431\u001b[0m \u001b[38;5;250m    \u001b[39m\u001b[38;5;124mr\u001b[39m\u001b[38;5;124;03m\"\"\"Creates grids of coordinates specified by the 1D inputs in `attr`:tensors.\u001b[39;00m\n\u001b[1;32m    432\u001b[0m \n\u001b[1;32m    433\u001b[0m \u001b[38;5;124;03m    This is helpful when you want to visualize data over some\u001b[39;00m\n\u001b[0;32m   (...)\u001b[0m\n\u001b[1;32m    522\u001b[0m \n\u001b[1;32m    523\u001b[0m \u001b[38;5;124;03m    \"\"\"\u001b[39;00m\n\u001b[0;32m--> 524\u001b[0m     \u001b[38;5;28;01mreturn\u001b[39;00m _meshgrid(\u001b[38;5;241m*\u001b[39mtensors, indexing\u001b[38;5;241m=\u001b[39mindexing)\n",
            "File \u001b[0;32m/opt/anaconda3/lib/python3.12/site-packages/torch/functional.py:539\u001b[0m, in \u001b[0;36m_meshgrid\u001b[0;34m(indexing, *tensors)\u001b[0m\n\u001b[1;32m    534\u001b[0m \u001b[38;5;66;03m# Continue allowing call of old method that takes no indexing\u001b[39;00m\n\u001b[1;32m    535\u001b[0m \u001b[38;5;66;03m# kwarg for forward compatibility reasons.\u001b[39;00m\n\u001b[1;32m    536\u001b[0m \u001b[38;5;66;03m#\u001b[39;00m\n\u001b[1;32m    537\u001b[0m \u001b[38;5;66;03m# Remove this two weeks after landing.\u001b[39;00m\n\u001b[1;32m    538\u001b[0m kwargs \u001b[38;5;241m=\u001b[39m {} \u001b[38;5;28;01mif\u001b[39;00m indexing \u001b[38;5;129;01mis\u001b[39;00m \u001b[38;5;28;01mNone\u001b[39;00m \u001b[38;5;28;01melse\u001b[39;00m {\u001b[38;5;124m\"\u001b[39m\u001b[38;5;124mindexing\u001b[39m\u001b[38;5;124m\"\u001b[39m: indexing}\n\u001b[0;32m--> 539\u001b[0m \u001b[38;5;28;01mreturn\u001b[39;00m _VF\u001b[38;5;241m.\u001b[39mmeshgrid(tensors, \u001b[38;5;241m*\u001b[39m\u001b[38;5;241m*\u001b[39mkwargs)\n",
            "\u001b[0;31mTypeError\u001b[0m: expected Tensor as element 0 in argument 0, but got numpy.ndarray"
          ]
        }
      ],
      "source": [
        "x = np.linspace(0,10000,1)\n",
        "y = np.linspace(0,x+1,1)\n",
        "\n",
        "\n",
        "def joint_pdf(x, y):\n",
        "    return 2 * torch.exp(-x) * torch.exp(-y)\n"
      ]
    },
    {
      "cell_type": "code",
      "execution_count": null,
      "metadata": {},
      "outputs": [],
      "source": [
        "#1\n",
        "def marginal_pdf(y):\n",
        "    return "
      ]
    },
    {
      "cell_type": "code",
      "execution_count": null,
      "metadata": {},
      "outputs": [],
      "source": []
    },
    {
      "cell_type": "code",
      "execution_count": null,
      "metadata": {},
      "outputs": [],
      "source": [
        "#2\n",
        "def conditional_pdf(x, y):\n",
        "    return joint_pdf(x, y) / marginal_pdf(y)"
      ]
    },
    {
      "cell_type": "markdown",
      "metadata": {
        "id": "8DWLGzgvJU6J"
      },
      "source": [
        "### **Question 2:**\n",
        "\n",
        "A binary signal \\( X \\) is transmitted over a noisy channel:\n",
        "\n",
        "$\n",
        "X =\n",
        "\\begin{cases}\n",
        "+1, & \\text{with probability } \\frac{1}{2} \\\\\n",
        "-1, & \\text{with probability } \\frac{1}{2}\n",
        "\\end{cases}\n",
        "$\n",
        "\n",
        "The received signal is modeled as:\n",
        "\n",
        "$\n",
        "Y = X + N, \\quad N \\sim \\mathcal{N}(0,1)\n",
        "$\n",
        "\n",
        "where $( N $) is Gaussian noise with mean 0 and variance 1.\n",
        "\n",
        "**To do:**\n",
        "\n",
        "1. Compute and plot the likelihood function $( P(Y | X) )$.\n",
        "2. Use **Bayes' theorem** to compute and plot the posterior probability:\n",
        "\n",
        "   $\n",
        "   P(X = +1 | Y > 0)\n",
        "   $\n",
        "\n",
        "3. Create a **3D surface plot** to visualize $P(X | Y)$ as a function of both $( X )$ and $( Y )$.\n"
      ]
    },
    {
      "cell_type": "code",
      "execution_count": null,
      "metadata": {},
      "outputs": [],
      "source": []
    },
    {
      "cell_type": "markdown",
      "metadata": {
        "id": "UKSMzRHrt3nK"
      },
      "source": [
        "# **5. Conditional expectation**"
      ]
    },
    {
      "cell_type": "markdown",
      "metadata": {
        "id": "MPYrUOwJwUgD"
      },
      "source": [
        "### **Question 1:**\n",
        "You roll two fair 6-sided dice. Let S be the sum of the two dice, and let M be the maximum of the two dice.\n",
        "\n",
        "- Theoretical Computation:\n",
        "\n",
        "  Compute the unconditional expectation E[M], the expected maximum of two dice rolls.\n",
        "\n",
        "  Compute the conditional expectation E[M∣S is even], the expected maximum given that the sum is even.\n",
        "\n",
        "- Write a Python function simulate_dice_rolls(n) that:\n",
        "\n",
        "  Simulates rolling two dice n times.\n",
        "\n",
        "  Estimates both E[M] and E[M∣S is even].\n",
        "\n",
        "  Compares the estimated values with the theoretical results.\n",
        "\n",
        "  Run the function for 10,000 simulations and interpret the results.\n",
        "\n"
      ]
    },
    {
      "cell_type": "markdown",
      "metadata": {},
      "source": [
        "Theoretical Computation"
      ]
    },
    {
      "cell_type": "code",
      "execution_count": 18,
      "metadata": {},
      "outputs": [],
      "source": [
        "def theoretical_expectations():\n",
        "    total = 0\n",
        "    m_sum = 0\n",
        "\n",
        "    total_even = 0\n",
        "    m_sum_even = 0\n",
        "\n",
        "    for i in range(1, 7):  # Dice 1\n",
        "        for j in range(1, 7):  # Dice 2\n",
        "            m = max(i, j)\n",
        "            s = i + j\n",
        "            m_sum += m\n",
        "            total += 1\n",
        "\n",
        "            if s % 2 == 0:  # Conditional part\n",
        "                m_sum_even += m\n",
        "                total_even += 1\n",
        "\n",
        "    E_M = m_sum / total\n",
        "    E_M_given_even = m_sum_even / total_even\n",
        "\n",
        "    return E_M, E_M_given_even"
      ]
    },
    {
      "cell_type": "code",
      "execution_count": 19,
      "metadata": {},
      "outputs": [],
      "source": [
        "def simulate_dice_rolls(n):\n",
        "    dice_1 = torch.randint(1,7, (n,))\n",
        "    dice_2 = torch.randint(1,7, (n,))\n",
        "\n",
        "    s = dice_1 + dice_2\n",
        "    M = torch.maximum(dice_1, dice_2)\n",
        "    \n",
        "    E_M = M.float().mean().item()\n",
        "\n",
        "    even_mask = (s%2 == 0)\n",
        "    E_M_S_is_even = M[even_mask].float().mean().item()\n",
        "\n",
        "    return E_M, E_M_S_is_even\n",
        "\n",
        "    "
      ]
    },
    {
      "cell_type": "code",
      "execution_count": 20,
      "metadata": {},
      "outputs": [
        {
          "data": {
            "image/png": "[encoded data removed]",
            "text/plain": [
              "<Figure size 1400x600 with 2 Axes>"
            ]
          },
          "metadata": {
            "image/png": {
              "height": 590,
              "width": 1389
            }
          },
          "output_type": "display_data"
        }
      ],
      "source": [
        "fig, ax = plt.subplots(1, 2, figsize=(14, 6))\n",
        "\n",
        "E_M_theory, E_M_even_theory = theoretical_expectations()\n",
        "E_M_sim, E_M_given_even_sim = simulate_dice_rolls(10000)\n",
        "\n",
        "\n",
        "ax[0].bar(['Simulated', 'Theoretical'], [E_M_sim, E_M_theory], color=['skyblue', 'lightcoral'])\n",
        "ax[0].set_title(\"Comparison of E[M]\")\n",
        "ax[0].set_ylabel(\"Expectation Value\")\n",
        "\n",
        "\n",
        "ax[1].bar(['Simulated', 'Theoretical'], [E_M_given_even_sim, E_M_even_theory], color=['skyblue', 'lightcoral'])\n",
        "ax[1].set_title(\"Comparison of E[M | S even]\")\n",
        "ax[1].set_ylabel(\"Expectation Value\")\n",
        "plt.tight_layout()\n",
        "plt.show()"
      ]
    },
    {
      "cell_type": "markdown",
      "metadata": {
        "id": "F8ORbhiw7vOG"
      },
      "source": [
        "# **6. Sum of two random variables**"
      ]
    },
    {
      "cell_type": "markdown",
      "metadata": {
        "id": "gzPaea3G76vX"
      },
      "source": [
        "### **Question 1:**\n",
        "Write a Python program to simulate the sum of two independent discrete uniform random variables \\( X \\) and \\( Y \\), where both are uniformly distributed over \\{0, 1, 2, 3\\}.\n",
        "\n",
        "- Generate **100,000** random samples of \\( X \\) and \\( Y \\).\n",
        "- Compute \\( Z = X + Y \\) for each sample.\n",
        "- Plot the empirical probability mass function (PMF) of \\( Z \\) using Matplotlib.\n",
        "- Compare the simulated PMF with the theoretical PMF.\n"
      ]
    },
    {
      "cell_type": "code",
      "execution_count": null,
      "metadata": {},
      "outputs": [
        {
          "data": {
            "image/png": "[encoded data removed]",
            "text/plain": [
              "<Figure size 800x500 with 1 Axes>"
            ]
          },
          "metadata": {
            "image/png": {
              "height": 469,
              "width": 700
            }
          },
          "output_type": "display_data"
        }
      ],
      "source": [
        "samples = 100000\n",
        "\n",
        "x_samples = torch.randint(0,4, (samples,))\n",
        "y_samples = torch.randint(0,4, (samples,))\n",
        "\n",
        "z_samples = x_samples + y_samples\n",
        "\n",
        "values, counts = torch.unique(z_samples, return_counts=True)\n",
        "\n",
        "pmf = counts / samples\n",
        "\n",
        "plt.figure(figsize=(8, 5))\n",
        "plt.bar(values.tolist(), pmf.tolist(), color='skyblue', edgecolor='black')\n",
        "plt.title(\"Empirical PMF of Z = X + Y (X, Y ~ Uniform({0,1,2,3}))\")\n",
        "plt.xlabel(\"Sum (Z)\")\n",
        "plt.ylabel(\"Probability\")\n",
        "plt.xticks(range(0, 7))\n",
        "plt.grid(axis='y', linestyle='--', alpha=0.7)\n",
        "plt.show()\n"
      ]
    },
    {
      "cell_type": "markdown",
      "metadata": {},
      "source": [
        "Comparison of the simulated PMF with the theoretical PDF"
      ]
    },
    {
      "cell_type": "code",
      "execution_count": null,
      "metadata": {},
      "outputs": [],
      "source": []
    },
    {
      "cell_type": "markdown",
      "metadata": {
        "id": "tWRAm0IfLsK5"
      },
      "source": [
        "# **7. Examples of sum of two random variables**"
      ]
    },
    {
      "cell_type": "markdown",
      "metadata": {
        "id": "eeBlEyJVMuqI"
      },
      "source": [
        "### **Question 1: Numerical Convolution of Exponential PDFs**\n",
        "\n",
        "Let \\(X\\) and \\(Y\\) be independent random variables with PDFs:\n",
        "\n",
        "\\\n",
        "f_X(x) =\n",
        "\\begin{cases}\n",
        "x e^{-x}, & x \\geq 0 \\\\\n",
        "0, & \\text{otherwise}\n",
        "\\end{cases}\n",
        "\n",
        "f_Y(y) =\n",
        "\\begin{cases}\n",
        "y e^{-y}, & y \\geq 0 \\\\\n",
        "0, & \\text{otherwise}\n",
        "\\end{cases}\n",
        "\n",
        "\n",
        "**Task**:  \n",
        "1. Numerically compute the PDF of \\(Z = X + Y\\)\n",
        "2. Compare your numerical result with the analytical solution:\n",
        "   \\[\n",
        "   f_Z(z) =\n",
        "   \\begin{cases}\n",
        "   \\dfrac{z^3}{6} e^{-z}, & z \\geq 0 \\\\\n",
        "   0, & \\text{otherwise}\n",
        "   \\end{cases}\n",
        "   \n"
      ]
    },
    {
      "cell_type": "markdown",
      "metadata": {
        "id": "44RAkX_DRulb"
      },
      "source": [
        "### **Question 2: Simulate the sum of two Gaussian variables**\n",
        "X\n",
        "∼\n",
        "N\n",
        "(\n",
        "1\n",
        ",\n",
        "2\n",
        ")\n",
        " and\n",
        "Y\n",
        "∼\n",
        "N\n",
        "(\n",
        "3\n",
        ",\n",
        "4\n",
        ")\n",
        " and verify that\n",
        "X\n",
        "+\n",
        "Y\n",
        "∼\n",
        "N\n",
        "(\n",
        "4\n",
        ",\n",
        "6\n",
        ")\n"
      ]
    },
    {
      "cell_type": "markdown",
      "metadata": {
        "id": "seILlJc0OxcQ"
      },
      "source": [
        "# **8. Jensen's Inequality**"
      ]
    },
    {
      "cell_type": "markdown",
      "metadata": {
        "id": "nzAoMOZRVh_l"
      },
      "source": [
        "### **Question 1:**\n",
        "\n",
        "Jensen’s inequality states that for a convex function $f(x)$ and a random variable $X$:\n",
        "\n",
        "$$\n",
        "f(\\mathbb{E}[X]) \\leq \\mathbb{E}[f(X)]\n",
        "$$\n",
        "\n",
        "Task:\n",
        "\n",
        "- Choose a convex function $f(x)$ (e.g. $f(x) = x^2$ or $f(x) = e^x$)\n",
        "- Generate random samples of $X$ from a given probability distribution (e.g., Normal, Uniform, or Exponential).\n",
        "- Compute both sides of Jensen’s inequality using Python.\n",
        "- Compare the results and check if Jensen’s inequality holds.\n",
        "\n",
        "What would happen if you now take a concave function? What did you observe?\n",
        "\n",
        "How does the different between $f(\\mathbb{E}[X])$ and $\\mathbb{E}[f(X)]$ change for different distributions? Write down all your observations in markdown cell.\n",
        "\n"
      ]
    },
    {
      "cell_type": "markdown",
      "metadata": {
        "id": "SZRaMFlvz6xF"
      },
      "source": [
        "# **9. Markov and Chebyshev inequality**"
      ]
    },
    {
      "cell_type": "markdown",
      "metadata": {
        "id": "IiRBZjJRz_0S"
      },
      "source": [
        "### **Question 1: Markov inequality**\n",
        "Let $X$ be a non-negative random variable with an expected value $\\mathbb{E}[X] = 10$. Markov’s inequality states that for any $a > 0$:\n",
        "\n",
        "$$\n",
        "P(X \\geq a) \\leq \\frac{\\mathbb{E}[X]}{a}\n",
        "$$\n",
        "\n",
        "---\n",
        "\n",
        "## **Tasks**\n",
        "1. **Analytical Task:**  \n",
        "   Use Markov’s inequality to find an upper bound on $P(X \\geq 25)$.\n",
        "\n",
        "2. **Coding Task:**  \n",
        "   - Simulate 100,000 samples from an **Exponential distribution** with rate $\\lambda = \\frac{1}{10}$, which has an expected value of $\\mathbb{E}[X] = 10$.  \n",
        "   - Estimate $P(X \\geq 25)$ empirically using the generated samples.  \n",
        "\n",
        "3. **Comparison:**  \n",
        "   - Compare the empirical probability with the Markov bound.  \n",
        "   - Discuss whether the bound is tight.\n",
        "\n",
        "---\n",
        "\n",
        "## **Hints**\n",
        "- The exponential distribution with rate $\\lambda$ has mean $\\frac{1}{\\lambda}$.\n"
      ]
    },
    {
      "cell_type": "markdown",
      "metadata": {
        "id": "v-ycwwm14GuJ"
      },
      "source": [
        "### **Question 2: Chebyshev’s Inequality**"
      ]
    },
    {
      "cell_type": "markdown",
      "metadata": {
        "id": "HG1qr66k4QoS"
      },
      "source": [
        "For a set of i.i.d. random variables $X_1, X_2, \\dots, X_N$ with mean $\\mu = 5$ and variance $\\sigma^2 = 4$, the sample mean is:\n",
        "\n",
        "$$\n",
        "\\bar{X} = \\frac{1}{N} \\sum_{i=1}^{N} X_i\n",
        "$$\n",
        "\n",
        "Chebyshev’s inequality states:\n",
        "\n",
        "$$\n",
        "P(|\\bar{X} - \\mu| \\geq k) \\leq \\frac{\\sigma^2}{N k^2}\n",
        "$$\n",
        "\n",
        "### **Tasks**\n",
        "\n",
        "1. **Analytical Task:**\n",
        "   - Use Chebyshev’s inequality to find an upper bound for $P(|\\bar{X} - 5| \\geq 1)$ for $N = 10$ and $N = 100$.\n",
        "\n",
        "2. **Coding Task:**\n",
        "   - Simulate 100,000 trials where you compute sample means for $N = 10$ and $N = 100$, assuming each $X_i \\sim U[3, 7]$ (uniform distribution on the interval [3, 7]).\n",
        "   - Estimate $P(|\\bar{X} - 5| \\geq 1)$ empirically from the simulations.\n",
        "\n",
        "3. **Comparison and Discussion:**\n",
        "    - Compare the simulated probabilities with the theoretical bounds. Discuss how the probability behaves as $ N \\to \\infty $, linking this to the **Weak Law of Large Numbers**."
      ]
    }
  ],
  "metadata": {
    "colab": {
      "collapsed_sections": [
        "td39XOhGASdr",
        "UKSMzRHrt3nK",
        "F8ORbhiw7vOG",
        "eeBlEyJVMuqI"
      ],
      "provenance": []
    },
    "kernelspec": {
      "display_name": "base",
      "language": "python",
      "name": "python3"
    },
    "language_info": {
      "codemirror_mode": {
        "name": "ipython",
        "version": 3
      },
      "file_extension": ".py",
      "mimetype": "text/x-python",
      "name": "python",
      "nbconvert_exporter": "python",
      "pygments_lexer": "ipython3",
      "version": "3.12.7"
    }
  },
  "nbformat": 4,
  "nbformat_minor": 0
}
